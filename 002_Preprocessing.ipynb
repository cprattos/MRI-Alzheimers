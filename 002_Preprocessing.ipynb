{
 "cells": [
  {
   "cell_type": "markdown",
   "metadata": {},
   "source": [
    "# Data Preprocessing\n",
    "We identified 8 rows with missing values in SES column. We deal with this issue with 2 approaches. One is just to drop the rows with missing values. The other is to replace the missing values with the corresponing values, also known as 'Imputation'. Since we have only 150 data, I assume imputation would help the performance of our model."
   ]
  },
  {
   "cell_type": "code",
   "execution_count": 2,
   "metadata": {},
   "outputs": [],
   "source": [
    "import pandas as pd\n",
    "import numpy as np\n",
    "import seaborn as sns\n",
    "import matplotlib.pyplot as plt\n",
    "%matplotlib inline\n",
    "\n",
    "sns.set()\n"
   ]
  },
  {
   "cell_type": "code",
   "execution_count": 4,
   "metadata": {},
   "outputs": [],
   "source": [
    "df = pd.read_csv('./Data/oasis_longitudinal.csv')\n",
    "\n",
    "# use first visit data only because of the analysis we're doing\n",
    "df = df.loc[df['Visit'] == 1]\n",
    "df = df.reset_index(drop=True)  # reset index after filtering first visit data\n",
    "df['M/F'] = df['M/F'].replace(['F', 'M'], [0, 1])  # M/F column\n",
    "df['Group'] = df['Group'].replace(\n",
    "    ['Converted'], ['Demented'])  # Target variable\n",
    "df['Group'] = df['Group'].replace(\n",
    "    ['Demented', 'Nondemented'], [1, 0])  # Target variable\n",
    "df = df.drop(['MRI ID', 'Visit', 'Hand'], axis=1)  # Drop unnecessary columns\n"
   ]
  },
  {
   "cell_type": "code",
   "execution_count": 5,
   "metadata": {},
   "outputs": [
    {
     "data": {
      "text/plain": [
       "Subject ID    0\n",
       "Group         0\n",
       "MR Delay      0\n",
       "M/F           0\n",
       "Age           0\n",
       "EDUC          0\n",
       "SES           8\n",
       "MMSE          0\n",
       "CDR           0\n",
       "eTIV          0\n",
       "nWBV          0\n",
       "ASF           0\n",
       "dtype: int64"
      ]
     },
     "execution_count": 5,
     "metadata": {},
     "output_type": "execute_result"
    }
   ],
   "source": [
    "# Check missing values by each column\n",
    "pd.isnull(df).sum() \n",
    "# The column, SES has 8 missing values"
   ]
  },
  {
   "cell_type": "markdown",
   "metadata": {},
   "source": [
    "## 5.A Removing rows with missing values"
   ]
  },
  {
   "cell_type": "code",
   "execution_count": 8,
   "metadata": {},
   "outputs": [
    {
     "data": {
      "text/plain": [
       "Subject ID    0\n",
       "Group         0\n",
       "MR Delay      0\n",
       "M/F           0\n",
       "Age           0\n",
       "EDUC          0\n",
       "SES           0\n",
       "MMSE          0\n",
       "CDR           0\n",
       "eTIV          0\n",
       "nWBV          0\n",
       "ASF           0\n",
       "dtype: int64"
      ]
     },
     "execution_count": 8,
     "metadata": {},
     "output_type": "execute_result"
    }
   ],
   "source": [
    "# Dropped the 8 rows with missing values in the column, SES\n",
    "df_dropna = df.dropna(axis=0, how='any')\n",
    "pd.isnull(df_dropna).sum()\n",
    "\n",
    "\n"
   ]
  },
  {
   "cell_type": "code",
   "execution_count": 9,
   "metadata": {},
   "outputs": [
    {
     "data": {
      "text/plain": [
       "0    72\n",
       "1    70\n",
       "Name: Group, dtype: int64"
      ]
     },
     "execution_count": 9,
     "metadata": {},
     "output_type": "execute_result"
    }
   ],
   "source": [
    "df_dropna['Group'].value_counts()\n"
   ]
  },
  {
   "cell_type": "markdown",
   "metadata": {},
   "source": [
    "## 5.B Imputation\n",
    "Scikit-learn provides package for imputation [6], but we do it manually. Since the SES is a discrete variable, we use median for the imputation"
   ]
  },
  {
   "cell_type": "code",
   "execution_count": 10,
   "metadata": {},
   "outputs": [
    {
     "data": {
      "image/png": "[encoded data removed]",
      "text/plain": [
       "<Figure size 432x288 with 1 Axes>"
      ]
     },
     "metadata": {},
     "output_type": "display_data"
    }
   ],
   "source": [
    "# Draw scatter plot between EDUC and SES\n",
    "x = df['EDUC']\n",
    "y = df['SES']\n",
    "\n",
    "ses_not_null_index = y[~y.isnull()].index\n",
    "x = x[ses_not_null_index]\n",
    "y = y[ses_not_null_index]\n",
    "\n",
    "# Draw trend line in red\n",
    "z = np.polyfit(x, y, 1)\n",
    "p = np.poly1d(z)\n",
    "plt.plot(x, y, 'go', x, p(x), \"r--\")\n",
    "plt.xlabel('Education Level(EDUC)')\n",
    "plt.ylabel('Social Economic Status(SES)')\n",
    "\n",
    "plt.show()\n"
   ]
  },
  {
   "cell_type": "code",
   "execution_count": 11,
   "metadata": {},
   "outputs": [
    {
     "data": {
      "text/plain": [
       "EDUC\n",
       "6     4.0\n",
       "8     5.0\n",
       "11    4.0\n",
       "12    3.0\n",
       "13    2.0\n",
       "14    3.0\n",
       "15    2.0\n",
       "16    2.0\n",
       "17    1.0\n",
       "18    2.0\n",
       "20    1.0\n",
       "23    1.0\n",
       "Name: SES, dtype: float64"
      ]
     },
     "execution_count": 11,
     "metadata": {},
     "output_type": "execute_result"
    }
   ],
   "source": [
    "df.groupby(['EDUC'])['SES'].median()\n"
   ]
  },
  {
   "cell_type": "code",
   "execution_count": 12,
   "metadata": {},
   "outputs": [
    {
     "data": {
      "text/plain": [
       "False    150\n",
       "Name: SES, dtype: int64"
      ]
     },
     "execution_count": 12,
     "metadata": {},
     "output_type": "execute_result"
    }
   ],
   "source": [
    "df[\"SES\"].fillna(df.groupby(\"EDUC\")[\"SES\"].transform(\"median\"), inplace=True)\n",
    "\n",
    "# I confirm there're no more missing values and all the 150 data were used.\n",
    "pd.isnull(df['SES']).value_counts()\n"
   ]
  },
  {
   "cell_type": "markdown",
   "metadata": {},
   "source": [
    "## 5.C Splitting Train/Validation/Test Sets"
   ]
  },
  {
   "cell_type": "code",
   "execution_count": 13,
   "metadata": {},
   "outputs": [],
   "source": [
    "from sklearn.model_selection import train_test_split\n",
    "from sklearn import preprocessing\n",
    "from sklearn.preprocessing import MinMaxScaler\n",
    "from sklearn.model_selection import cross_val_score\n"
   ]
  },
  {
   "cell_type": "code",
   "execution_count": 14,
   "metadata": {},
   "outputs": [],
   "source": [
    "# Dataset with imputation\n",
    "Y = df['Group'].values  # Target for the model\n",
    "X = df[['M/F', 'Age', 'EDUC', 'SES', 'MMSE',\n",
    "        'eTIV', 'nWBV', 'ASF']]  # Features we use\n",
    "\n",
    "# splitting into three sets\n",
    "X_trainval, X_test, Y_trainval, Y_test = train_test_split(\n",
    "    X, Y, random_state=0)\n",
    "\n",
    "# Feature scaling\n",
    "scaler = MinMaxScaler().fit(X_trainval)\n",
    "X_trainval_scaled = scaler.transform(X_trainval)\n",
    "X_test_scaled = scaler.transform(X_test)\n"
   ]
  },
  {
   "cell_type": "code",
   "execution_count": 15,
   "metadata": {},
   "outputs": [],
   "source": [
    "# Dataset after dropping missing value rows\n",
    "Y = df_dropna['Group'].values  # Target for the model\n",
    "X = df_dropna[['M/F', 'Age', 'EDUC', 'SES', 'MMSE',\n",
    "               'eTIV', 'nWBV', 'ASF']]  # Features we use\n",
    "\n",
    "# splitting into three sets\n",
    "X_trainval_dna, X_test_dna, Y_trainval_dna, Y_test_dna = train_test_split(\n",
    "    X, Y, random_state=0)\n",
    "\n",
    "# Feature scaling\n",
    "scaler = MinMaxScaler().fit(X_trainval_dna)\n",
    "X_trainval_scaled_dna = scaler.transform(X_trainval_dna)\n",
    "X_test_scaled_dna = scaler.transform(X_test_dna)\n"
   ]
  },
  {
   "cell_type": "markdown",
   "metadata": {},
   "source": [
    "## 5.D Cross-validation\n",
    "We conduct 5-fold cross-validation to figure out the best parameters for each model, Logistic Regression, SVM, Decision Tree, Random Forests, and AdaBoost. Since our performance metric is accuracy, we find the best tuning parameters by accuracy. In the end, we compare the accuracy, recall and AUC for each model."
   ]
  },
  {
   "cell_type": "code",
   "execution_count": 28,
   "metadata": {},
   "outputs": [],
   "source": [
    "from sklearn.linear_model import LogisticRegression\n",
    "from sklearn.svm import SVC\n",
    "from sklearn.tree import DecisionTreeClassifier\n",
    "from sklearn.ensemble import RandomForestClassifier\n",
    "from sklearn.ensemble import AdaBoostClassifier\n",
    "from sklearn.metrics import confusion_matrix, accuracy_score, recall_score, roc_curve, auc\n",
    "from azureml.core import Run, Dataset, Workspace, Experiment\n",
    "\n",
    "import os\n",
    "import sys\n",
    "import argparse\n",
    "import joblib\n",
    "\n",
    "ws = Workspace(subscription_id=\"9ce8d68a-39d6-47d5-b01d-baf594538731\",\n",
    "               resource_group=\"PracticeSquadTrain\",\n",
    "               workspace_name=\"MLSquad\"\n",
    "               )\n"
   ]
  },
  {
   "cell_type": "code",
   "execution_count": 17,
   "metadata": {},
   "outputs": [],
   "source": [
    "acc = []  # list to store all performance metric\n"
   ]
  },
  {
   "cell_type": "code",
   "execution_count": 22,
   "metadata": {},
   "outputs": [
    {
     "name": "stderr",
     "output_type": "stream",
     "text": [
      "C:\\Users\\christopher.prattos\\Anaconda3\\envs\\experiment_env\\lib\\site-packages\\sklearn\\linear_model\\_logistic.py:765: ConvergenceWarning: lbfgs failed to converge (status=1):\n",
      "STOP: TOTAL NO. of ITERATIONS REACHED LIMIT.\n",
      "\n",
      "Increase the number of iterations (max_iter) or scale the data as shown in:\n",
      "    https://scikit-learn.org/stable/modules/preprocessing.html\n",
      "Please also refer to the documentation for alternative solver options:\n",
      "    https://scikit-learn.org/stable/modules/linear_model.html#logistic-regression\n",
      "  extra_warning_msg=_LOGISTIC_SOLVER_CONVERGENCE_MSG)\n",
      "C:\\Users\\christopher.prattos\\Anaconda3\\envs\\experiment_env\\lib\\site-packages\\sklearn\\linear_model\\_logistic.py:765: ConvergenceWarning: lbfgs failed to converge (status=1):\n",
      "STOP: TOTAL NO. of ITERATIONS REACHED LIMIT.\n",
      "\n",
      "Increase the number of iterations (max_iter) or scale the data as shown in:\n",
      "    https://scikit-learn.org/stable/modules/preprocessing.html\n",
      "Please also refer to the documentation for alternative solver options:\n",
      "    https://scikit-learn.org/stable/modules/linear_model.html#logistic-regression\n",
      "  extra_warning_msg=_LOGISTIC_SOLVER_CONVERGENCE_MSG)\n",
      "C:\\Users\\christopher.prattos\\Anaconda3\\envs\\experiment_env\\lib\\site-packages\\sklearn\\linear_model\\_logistic.py:765: ConvergenceWarning: lbfgs failed to converge (status=1):\n",
      "STOP: TOTAL NO. of ITERATIONS REACHED LIMIT.\n",
      "\n",
      "Increase the number of iterations (max_iter) or scale the data as shown in:\n",
      "    https://scikit-learn.org/stable/modules/preprocessing.html\n",
      "Please also refer to the documentation for alternative solver options:\n",
      "    https://scikit-learn.org/stable/modules/linear_model.html#logistic-regression\n",
      "  extra_warning_msg=_LOGISTIC_SOLVER_CONVERGENCE_MSG)\n",
      "C:\\Users\\christopher.prattos\\Anaconda3\\envs\\experiment_env\\lib\\site-packages\\sklearn\\linear_model\\_logistic.py:765: ConvergenceWarning: lbfgs failed to converge (status=1):\n",
      "STOP: TOTAL NO. of ITERATIONS REACHED LIMIT.\n",
      "\n",
      "Increase the number of iterations (max_iter) or scale the data as shown in:\n",
      "    https://scikit-learn.org/stable/modules/preprocessing.html\n",
      "Please also refer to the documentation for alternative solver options:\n",
      "    https://scikit-learn.org/stable/modules/linear_model.html#logistic-regression\n",
      "  extra_warning_msg=_LOGISTIC_SOLVER_CONVERGENCE_MSG)\n"
     ]
    },
    {
     "name": "stdout",
     "output_type": "stream",
     "text": [
      "Best accuracy on validation set is: 0.7060218112849692\n",
      "Best parameter for regularization (C) is:  10\n",
      "Test accuracy with best C parameter is 0.7631578947368421\n",
      "Test recall with the best C parameter is 0.7\n",
      "Test AUC with the best C parameter is 0.7666666666666667\n"
     ]
    },
    {
     "name": "stderr",
     "output_type": "stream",
     "text": [
      "C:\\Users\\christopher.prattos\\Anaconda3\\envs\\experiment_env\\lib\\site-packages\\sklearn\\linear_model\\_logistic.py:765: ConvergenceWarning: lbfgs failed to converge (status=1):\n",
      "STOP: TOTAL NO. of ITERATIONS REACHED LIMIT.\n",
      "\n",
      "Increase the number of iterations (max_iter) or scale the data as shown in:\n",
      "    https://scikit-learn.org/stable/modules/preprocessing.html\n",
      "Please also refer to the documentation for alternative solver options:\n",
      "    https://scikit-learn.org/stable/modules/linear_model.html#logistic-regression\n",
      "  extra_warning_msg=_LOGISTIC_SOLVER_CONVERGENCE_MSG)\n",
      "C:\\Users\\christopher.prattos\\Anaconda3\\envs\\experiment_env\\lib\\site-packages\\sklearn\\linear_model\\_logistic.py:765: ConvergenceWarning: lbfgs failed to converge (status=1):\n",
      "STOP: TOTAL NO. of ITERATIONS REACHED LIMIT.\n",
      "\n",
      "Increase the number of iterations (max_iter) or scale the data as shown in:\n",
      "    https://scikit-learn.org/stable/modules/preprocessing.html\n",
      "Please also refer to the documentation for alternative solver options:\n",
      "    https://scikit-learn.org/stable/modules/linear_model.html#logistic-regression\n",
      "  extra_warning_msg=_LOGISTIC_SOLVER_CONVERGENCE_MSG)\n",
      "C:\\Users\\christopher.prattos\\Anaconda3\\envs\\experiment_env\\lib\\site-packages\\sklearn\\linear_model\\_logistic.py:765: ConvergenceWarning: lbfgs failed to converge (status=1):\n",
      "STOP: TOTAL NO. of ITERATIONS REACHED LIMIT.\n",
      "\n",
      "Increase the number of iterations (max_iter) or scale the data as shown in:\n",
      "    https://scikit-learn.org/stable/modules/preprocessing.html\n",
      "Please also refer to the documentation for alternative solver options:\n",
      "    https://scikit-learn.org/stable/modules/linear_model.html#logistic-regression\n",
      "  extra_warning_msg=_LOGISTIC_SOLVER_CONVERGENCE_MSG)\n",
      "C:\\Users\\christopher.prattos\\Anaconda3\\envs\\experiment_env\\lib\\site-packages\\sklearn\\linear_model\\_logistic.py:765: ConvergenceWarning: lbfgs failed to converge (status=1):\n",
      "STOP: TOTAL NO. of ITERATIONS REACHED LIMIT.\n",
      "\n",
      "Increase the number of iterations (max_iter) or scale the data as shown in:\n",
      "    https://scikit-learn.org/stable/modules/preprocessing.html\n",
      "Please also refer to the documentation for alternative solver options:\n",
      "    https://scikit-learn.org/stable/modules/linear_model.html#logistic-regression\n",
      "  extra_warning_msg=_LOGISTIC_SOLVER_CONVERGENCE_MSG)\n",
      "C:\\Users\\christopher.prattos\\Anaconda3\\envs\\experiment_env\\lib\\site-packages\\sklearn\\linear_model\\_logistic.py:765: ConvergenceWarning: lbfgs failed to converge (status=1):\n",
      "STOP: TOTAL NO. of ITERATIONS REACHED LIMIT.\n",
      "\n",
      "Increase the number of iterations (max_iter) or scale the data as shown in:\n",
      "    https://scikit-learn.org/stable/modules/preprocessing.html\n",
      "Please also refer to the documentation for alternative solver options:\n",
      "    https://scikit-learn.org/stable/modules/linear_model.html#logistic-regression\n",
      "  extra_warning_msg=_LOGISTIC_SOLVER_CONVERGENCE_MSG)\n"
     ]
    }
   ],
   "source": [
    "# Dataset with imputation\n",
    "best_score=0\n",
    "kfolds=3 # set the number of folds\n",
    "\n",
    "for c in [0.1, 1, 10]:\n",
    "    logRegModel = LogisticRegression(C=c)\n",
    "    # perform cross-validation\n",
    "    scores = cross_val_score(logRegModel, X_trainval, Y_trainval, cv=kfolds, scoring='accuracy') # Get recall for each parameter setting\n",
    "    \n",
    "    # compute mean cross-validation accuracy\n",
    "    score = np.mean(scores)\n",
    "    \n",
    "    # Find the best parameters and score\n",
    "    if score > best_score:\n",
    "        best_score = score\n",
    "        best_parameters = c\n",
    "\n",
    "# rebuild a model on the combined training and validation set\n",
    "SelectedLogRegModel = LogisticRegression(C=best_parameters).fit(X_trainval_scaled, Y_trainval)\n",
    "\n",
    "test_score = SelectedLogRegModel.score(X_test_scaled, Y_test)\n",
    "PredictedOutput = SelectedLogRegModel.predict(X_test_scaled)\n",
    "test_recall = recall_score(Y_test, PredictedOutput, pos_label=1)\n",
    "fpr, tpr, thresholds = roc_curve(Y_test, PredictedOutput, pos_label=1)\n",
    "test_auc = auc(fpr, tpr)\n",
    "print(\"Best accuracy on validation set is:\", best_score)\n",
    "print(\"Best parameter for regularization (C) is: \", best_parameters)\n",
    "print(\"Test accuracy with best C parameter is\", test_score)\n",
    "print(\"Test recall with the best C parameter is\", test_recall)\n",
    "print(\"Test AUC with the best C parameter is\", test_auc)\n",
    "m = 'Logistic Regression (w/ imputation)'\n",
    "acc.append([m, test_score, test_recall, test_auc, fpr, tpr, thresholds])"
   ]
  },
  {
   "cell_type": "markdown",
   "metadata": {},
   "source": [
    "# SVM\n",
    "C: Penalty parameter C of the error term. [0.001, 0.01, 0.1, 1, 10, 100, 1000]\n",
    "\n",
    "gamma: kernel coefficient. [0.001, 0.01, 0.1, 1, 10, 100, 1000]\n",
    "\n",
    "kernel: kernel type. ['rbf', 'linear', 'poly', 'sigmoid']"
   ]
  },
  {
   "cell_type": "code",
   "execution_count": 30,
   "metadata": {},
   "outputs": [
    {
     "name": "stdout",
     "output_type": "stream",
     "text": [
      "Starting experiment: alz_demi_SVM\n",
      "Best accuracy on cross validation set is: 0.7678994784257943\n",
      "Best parameter for c is:  10\n",
      "Best parameter for gamma is:  0.1\n",
      "Best parameter for kernel is:  rbf\n",
      "Test accuracy with the best parameters is 0.8157894736842105\n",
      "Test recall with the best parameters is 0.7\n",
      "Test recall with the best parameter is 0.8222222222222222\n",
      "Model trained and registered.\n"
     ]
    }
   ],
   "source": [
    "best_score = 0\n",
    "experiment = Experiment(workspace=ws, name='alz_demi_SVM')\n",
    "run = experiment.start_logging()\n",
    "print(\"Starting experiment:\", experiment.name)\n",
    "\n",
    "# iterate over the values we need to try for the parameter C\n",
    "for c_paramter in [0.001, 0.01, 0.1, 1, 10, 100, 1000]:\n",
    "    # iterate over the values we need to try for the parameter gamma\n",
    "    for gamma_paramter in [0.001, 0.01, 0.1, 1, 10, 100, 1000]:\n",
    "        # iterate over the values we need to try for the kernel parameter\n",
    "        for k_parameter in ['rbf', 'linear', 'poly', 'sigmoid']:\n",
    "            svmModel = SVC(kernel=k_parameter, C=c_paramter,\n",
    "                           gamma=gamma_paramter)  # define the model\n",
    "            # perform cross-validation\n",
    "            scores = cross_val_score(\n",
    "                svmModel, X_trainval_scaled, Y_trainval, cv=kfolds, scoring='accuracy')\n",
    "            # the training set will be split internally into training and cross validation\n",
    "\n",
    "            # compute mean cross-validation accuracy\n",
    "            score = np.mean(scores)\n",
    "            # if we got a better score, store the score and parameters\n",
    "            if score > best_score:\n",
    "                best_score = score  # store the score\n",
    "                best_parameter_c = c_paramter  # store the parameter c\n",
    "                best_parameter_gamma = gamma_paramter  # store the parameter gamma\n",
    "                best_parameter_k = k_parameter\n",
    "\n",
    "\n",
    "# rebuild a model with best parameters to get score\n",
    "SelectedSVMmodel = SVC(C=best_parameter_c, gamma=best_parameter_gamma,\n",
    "                       kernel=best_parameter_k).fit(X_trainval_scaled, Y_trainval)\n",
    "\n",
    "test_score = SelectedSVMmodel.score(X_test_scaled, Y_test)\n",
    "PredictedOutput = SelectedSVMmodel.predict(X_test_scaled)\n",
    "test_recall = recall_score(Y_test, PredictedOutput, pos_label=1)\n",
    "fpr, tpr, thresholds = roc_curve(Y_test, PredictedOutput, pos_label=1)\n",
    "test_auc = auc(fpr, tpr)\n",
    "print(\"Best accuracy on cross validation set is:\", best_score)\n",
    "print(\"Best parameter for c is: \", best_parameter_c)\n",
    "print(\"Best parameter for gamma is: \", best_parameter_gamma)\n",
    "print(\"Best parameter for kernel is: \", best_parameter_k)\n",
    "print(\"Test accuracy with the best parameters is\", test_score)\n",
    "print(\"Test recall with the best parameters is\", test_recall)\n",
    "print(\"Test recall with the best parameter is\", test_auc)\n",
    "\n",
    "m = 'SVM'\n",
    "acc.append([m, test_score, test_recall, test_auc, fpr, tpr, thresholds])\n",
    "\n",
    "os.makedirs('outputs', exist_ok=True)\n",
    "# note file saved in the outputs folder is automatically uploaded into experiment record\n",
    "\n",
    "model_file = 'outputs/demi_alz_svm.pkl'\n",
    "joblib.dump(value=SelectedSVMmodel, filename=model_file)\n",
    "\n",
    "run.complete()\n",
    "\n",
    "# Register the model\n",
    "run.register_model(model_path=model_file, model_name='ALZ-DEMI-model',\n",
    "                   tags={'Model Type': 'SVM'})\n",
    "\n",
    "print('Model trained and registered.')\n"
   ]
  },
  {
   "cell_type": "markdown",
   "metadata": {},
   "source": [
    "# 6.D Decision Tree\n",
    "Maximum depth. [1, 2, ..., 8]\n",
    "\n",
    "8 is the number of features"
   ]
  },
  {
   "cell_type": "code",
   "execution_count": 31,
   "metadata": {},
   "outputs": [
    {
     "name": "stdout",
     "output_type": "stream",
     "text": [
      "Starting experiment: alz_demi_DT\n",
      "Best accuracy on validation set is: 0.7769084874348033\n",
      "Best parameter for the maximum depth is:  1\n",
      "Test accuracy with best parameter is  0.8157894736842105\n",
      "Test recall with best parameters is  0.65\n",
      "Test AUC with the best parameter is  0.825\n",
      "Model trained and registered.\n"
     ]
    }
   ],
   "source": [
    "best_score = 0\n",
    "\n",
    "experiment = Experiment(workspace=ws, name='alz_demi_DT')\n",
    "run = experiment.start_logging()\n",
    "print(\"Starting experiment:\", experiment.name)\n",
    "\n",
    "for md in range(1, 9):  # iterate different maximum depth values\n",
    "    # train the model\n",
    "    treeModel = DecisionTreeClassifier(\n",
    "        random_state=0, max_depth=md, criterion='gini')\n",
    "    # perform cross-validation\n",
    "    scores = cross_val_score(treeModel, X_trainval_scaled,\n",
    "                             Y_trainval, cv=kfolds, scoring='accuracy')\n",
    "\n",
    "    # compute mean cross-validation accuracy\n",
    "    score = np.mean(scores)\n",
    "\n",
    "    # if we got a better score, store the score and parameters\n",
    "    if score > best_score:\n",
    "        best_score = score\n",
    "        best_parameter = md\n",
    "\n",
    "# Rebuild a model on the combined training and validation set\n",
    "SelectedDTModel = DecisionTreeClassifier(\n",
    "    max_depth=best_parameter).fit(X_trainval_scaled, Y_trainval)\n",
    "\n",
    "test_score = SelectedDTModel.score(X_test_scaled, Y_test)\n",
    "PredictedOutput = SelectedDTModel.predict(X_test_scaled)\n",
    "test_recall = recall_score(Y_test, PredictedOutput, pos_label=1)\n",
    "fpr, tpr, thresholds = roc_curve(Y_test, PredictedOutput, pos_label=1)\n",
    "test_auc = auc(fpr, tpr)\n",
    "print(\"Best accuracy on validation set is:\", best_score)\n",
    "print(\"Best parameter for the maximum depth is: \", best_parameter)\n",
    "print(\"Test accuracy with best parameter is \", test_score)\n",
    "print(\"Test recall with best parameters is \", test_recall)\n",
    "print(\"Test AUC with the best parameter is \", test_auc)\n",
    "\n",
    "m = 'Decision Tree'\n",
    "acc.append([m, test_score, test_recall, test_auc, fpr, tpr, thresholds])\n",
    "\n",
    "\n",
    "os.makedirs('outputs', exist_ok=True)\n",
    "# note file saved in the outputs folder is automatically uploaded into experiment record\n",
    "\n",
    "model_file = 'outputs/demi_alz_DT.pkl'\n",
    "joblib.dump(value=SelectedDTModel, filename=model_file)\n",
    "\n",
    "run.complete()\n",
    "\n",
    "# Register the model\n",
    "run.register_model(model_path=model_file, model_name='ALZ-DEMIDT-model',\n",
    "                   tags={'Model Type': 'Decision Tree'})\n",
    "\n",
    "print('Model trained and registered.')\n"
   ]
  },
  {
   "cell_type": "code",
   "execution_count": 32,
   "metadata": {},
   "outputs": [
    {
     "name": "stdout",
     "output_type": "stream",
     "text": [
      "Feature importance: \n"
     ]
    },
    {
     "data": {
      "text/plain": [
       "array([['M/F', '0.0'],\n",
       "       ['Age', '0.0'],\n",
       "       ['EDUC', '0.0'],\n",
       "       ['SES', '0.0'],\n",
       "       ['MMSE', '1.0'],\n",
       "       ['eTIV', '0.0'],\n",
       "       ['nWBV', '0.0'],\n",
       "       ['ASF', '0.0']], dtype='<U4')"
      ]
     },
     "execution_count": 32,
     "metadata": {},
     "output_type": "execute_result"
    }
   ],
   "source": [
    "print(\"Feature importance: \")\n",
    "np.array([X.columns.values.tolist(), list(\n",
    "    SelectedDTModel.feature_importances_)]).T\n"
   ]
  }
 ],
 "metadata": {
  "interpreter": {
   "hash": "8a630dd3809bd06beade6277d323a8235c2d8ff00b8d8a467b1201289c24da07"
  },
  "kernelspec": {
   "display_name": "Python 3.9.6 ('experiment_env')",
   "language": "python",
   "name": "python3"
  },
  "language_info": {
   "codemirror_mode": {
    "name": "ipython",
    "version": 3
   },
   "file_extension": ".py",
   "mimetype": "text/x-python",
   "name": "python",
   "nbconvert_exporter": "python",
   "pygments_lexer": "ipython3",
   "version": "3.6.2"
  },
  "orig_nbformat": 4
 },
 "nbformat": 4,
 "nbformat_minor": 2
}

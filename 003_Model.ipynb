{
 "cells": [
  {
   "cell_type": "markdown",
   "metadata": {},
   "source": [
    "# Model\n",
    "## 6.A Performance Measures\n",
    "We use area under the receiver operating characteristic curve (AUC) as our main performance measure. We believe that in case of medical diagnostics for non-life threatening terminal diseases like most neurodegenerative diseases it is important to have a high true positive rate so that all patients with alzheimer's are identified as early as possible. But we also want to make sure that the false positive rate is as low as possible since we do not want to misdiagnose a healthy adult as demented and begin medical therapy. Hence AUC seemed like a ideal choice for a performance measure.\n",
    "\n",
    "We will also be looking at accuracy and recall for each model.\n",
    "\n",
    "In the figure below, you can think relevant elements as actually demented subjects. Precision and Recall [12]"
   ]
  },
  {
   "cell_type": "markdown",
   "metadata": {},
   "source": [
    "![image](https://upload.wikimedia.org/wikipedia/commons/2/26/Precisionrecall.svg)"
   ]
  },
  {
   "cell_type": "markdown",
   "metadata": {},
   "source": [
    "## 6.B Logistic Regression\n",
    "The parameter C, inverse of regularization strength.\n",
    "\n",
    "Tuning range: [0.001, 0.1, 1, 10, 100]"
   ]
  },
  {
   "cell_type": "code",
   "execution_count": 15,
   "metadata": {},
   "outputs": [],
   "source": [
    "import joblib\n",
    "import argparse\n",
    "import sys\n",
    "import os\n",
    "from azureml.core import Run, Dataset, Workspace, Experiment\n",
    "#hello\n",
    "from sklearn.linear_model import LogisticRegression\n",
    "from sklearn.svm import SVC\n",
    "from sklearn.tree import DecisionTreeClassifier\n",
    "from sklearn.ensemble import RandomForestClassifier\n",
    "from sklearn.ensemble import AdaBoostClassifier\n",
    "from sklearn.metrics import confusion_matrix, accuracy_score, recall_score, roc_curve, auc\n",
    "from sklearn.model_selection import train_test_split\n",
    "from sklearn.compose import ColumnTransformer\n",
    "from sklearn.impute import SimpleImputer\n",
    "from sklearn.pipeline import Pipeline\n",
    "from sklearn.preprocessing import OneHotEncoder, StandardScaler\n",
    "from sklearn.metrics import roc_auc_score, roc_curve\n",
    "import pandas as pd\n",
    "import numpy as np\n",
    "import seaborn as sns\n",
    "import matplotlib.pyplot as plt\n",
    "%matplotlib inline\n",
    "\n",
    "sns.set()\n",
    "\n",
    "\n",
    "# Load the workspace from the saved config file\n",
    "ws = Workspace(subscription_id=\"9ce8d68a-39d6-47d5-b01d-baf594538731\",\n",
    "               resource_group=\"PracticeSquadTrain\",\n",
    "               workspace_name=\"MLSquad\"\n",
    "               )\n"
   ]
  },
  {
   "cell_type": "markdown",
   "metadata": {},
   "source": [
    "# Repeatable Model "
   ]
  },
  {
   "cell_type": "code",
   "execution_count": 16,
   "metadata": {},
   "outputs": [],
   "source": [
    "def buildpreprocessorpipeline(X_raw):\n",
    "    categorical_features = X_raw.select_dtypes(\n",
    "        include=['object', 'bool']).columns\n",
    "    numeric_features = X_raw.select_dtypes(include=['float', 'int64']).columns\n",
    "\n",
    "    categorical_transformer = Pipeline(steps=[('imputer', SimpleImputer(strategy='constant', fill_value=\"missing\")),\n",
    "                                              ('onehotencoder', OneHotEncoder(categories='auto', sparse=False, handle_unknown='ignore'))])\n",
    "\n",
    "    numeric_transformer1 = Pipeline(\n",
    "        steps=[('scaler1', SimpleImputer(missing_values=np.nan, strategy='mean'))])\n",
    "    #numeric_transformer2 = Pipeline(steps=[('scaler2', StandardScaler(with_mean=True))])\n",
    "\n",
    "    preprocessor = ColumnTransformer(\n",
    "        transformers=[\n",
    "            ('numeric1', numeric_transformer1, numeric_features),\n",
    "            ('categorical', categorical_transformer, categorical_features)\n",
    "        ], remainder=\"drop\")\n",
    "\n",
    "    return preprocessor\n",
    "\n",
    "\n",
    "def model_train(LABEL, df, run):\n",
    "    y_raw = df[LABEL]\n",
    "    X_raw = df.drop([LABEL], axis=1)\n",
    "    print(X_raw.columns)\n",
    "    # Train test split\n",
    "    X_train, X_test, y_train, y_test = train_test_split(X_raw, y_raw, test_size=0.2, random_state=0)\n",
    "\n",
    "    #use Logistic Regression estimator from scikit learn\n",
    "    lg = LogisticRegression(penalty='l2', C=1.0, solver='liblinear')\n",
    "    preprocessor = buildpreprocessorpipeline(X_train)\n",
    "\n",
    "    #estimator instance\n",
    "    clf = Pipeline(steps=[('preprocessor', preprocessor),\n",
    "                          ('regressor', lg)])\n",
    "\n",
    "    model = clf.fit(X_train, y_train)\n",
    "\n",
    "    # calculate AUC\n",
    "    y_scores = model.predict_proba(X_test)\n",
    "    auc = roc_auc_score(y_test, y_scores[:, 1])\n",
    "    print('AUC: ' + str(auc))\n",
    "    run.log('AUC', np.float(auc))\n",
    "\n",
    "    # calculate test accuracy\n",
    "    y_hat = model.predict(X_test)\n",
    "    acc = np.average(y_hat == y_test)\n",
    "    print('Accuracy:', acc)\n",
    "    run.log('Accuracy', np.float(acc))\n",
    "\n",
    "    # plot ROC curve\n",
    "    fpr, tpr, thresholds = roc_curve(y_test, y_scores[:, 1])\n",
    "    fig = plt.figure(figsize=(6, 4))\n",
    "    # Plot the diagonal 50% line\n",
    "    plt.plot([0, 1], [0, 1], 'k--')\n",
    "    # Plot the FPR and TPR achieved by our model\n",
    "    plt.plot(fpr, tpr)\n",
    "    plt.xlabel('False Positive Rate')\n",
    "    plt.ylabel('True Positive Rate')\n",
    "    plt.title('ROC Curve')\n",
    "    run.log_image(name=\"ROC\", plot=fig)\n",
    "    plt.show()\n",
    "\n",
    "    # plot confusion matrix\n",
    "    # Generate confusion matrix\n",
    "    cmatrix = confusion_matrix(y_test, y_hat)\n",
    "    cmatrix_json = {\n",
    "        \"schema_type\": \"confusion_matrix\",\n",
    "        \"schema_version\": \"v1\",\n",
    "        \"data\": {\n",
    "            \"class_labels\": [\"0\", \"1\"],\n",
    "            \"matrix\": [\n",
    "                [int(x) for x in cmatrix[0]],\n",
    "                [int(x) for x in cmatrix[1]]\n",
    "            ]\n",
    "        }\n",
    "    }\n",
    "\n",
    "    run.log_confusion_matrix('ConfusionMatrix_Test', cmatrix_json)\n",
    "\n",
    "    return model\n",
    "    # Save the trained model\n"
   ]
  },
  {
   "cell_type": "code",
   "execution_count": 17,
   "metadata": {},
   "outputs": [
    {
     "name": "stdout",
     "output_type": "stream",
     "text": [
      "Starting experiment: Alz_Dem\n",
      "Index(['Subject ID', 'Group', 'MR Delay', 'M/F', 'Age', 'EDUC', 'SES', 'MMSE',\n",
      "       'CDR', 'eTIV', 'nWBV', 'ASF'],\n",
      "      dtype='object')\n",
      "Index(['Subject ID', 'MR Delay', 'M/F', 'Age', 'EDUC', 'SES', 'MMSE', 'CDR',\n",
      "       'eTIV', 'nWBV', 'ASF'],\n",
      "      dtype='object')\n",
      "AUC: 0.9285714285714285\n",
      "Accuracy: 0.9\n"
     ]
    },
    {
     "data": {
      "image/png": "[encoded data removed]",
      "text/plain": [
       "<Figure size 432x288 with 1 Axes>"
      ]
     },
     "metadata": {},
     "output_type": "display_data"
    },
    {
     "name": "stdout",
     "output_type": "stream",
     "text": [
      "Model trained and registered.\n"
     ]
    }
   ],
   "source": [
    "def main():\n",
    "    # Create an Azure ML experiment in your workspace\n",
    "    experiment = Experiment(workspace=ws, name='Alz_Dem')\n",
    "    run = experiment.start_logging()\n",
    "    print(\"Starting experiment:\", experiment.name)\n",
    "\n",
    "    #df = pd.read_csv('./train/data.csv')\n",
    "    df = pd.read_csv('./Data/oasis_longitudinal.csv')\n",
    "    # use first visit data only because of the analysis we're doing\n",
    "    df = df.loc[df['Visit'] == 1]\n",
    "    df = df.reset_index(drop=True)  # reset index after filtering first visit data\n",
    "    df['M/F'] = df['M/F'].replace(['F', 'M'], [0, 1])  # M/F column\n",
    "    df['Group'] = df['Group'].replace(\n",
    "        ['Converted'], ['Demented'])  # Target variable\n",
    "    df['Group'] = df['Group'].replace(\n",
    "        ['Demented', 'Nondemented'], [1, 0])  # Target variable\n",
    "    df = df.drop(['MRI ID', 'Visit', 'Hand'], axis=1)  # Drop unnecessary columns\n",
    "\n",
    "    print(df.columns)\n",
    "\n",
    "    model = model_train('Group', df, run)\n",
    "\n",
    "    os.makedirs('outputs', exist_ok=True)\n",
    "    # note file saved in the outputs folder is automatically uploaded into experiment record\n",
    "\n",
    "    model_file = 'outputs/titanic_model.pkl'\n",
    "    joblib.dump(value=model, filename=model_file)\n",
    "\n",
    "    run.complete()\n",
    "\n",
    "    # Register the model\n",
    "    run.register_model(model_path=model_file, model_name='Alz_Dem-model',\n",
    "                       tags={'Model Type': 'Logistic Regresssion'})\n",
    "\n",
    "    print('Model trained and registered.')\n",
    "\n",
    "\n",
    "if __name__ == \"__main__\":\n",
    "    main()\n"
   ]
  }
 ],
 "metadata": {
  "interpreter": {
   "hash": "8a630dd3809bd06beade6277d323a8235c2d8ff00b8d8a467b1201289c24da07"
  },
  "kernelspec": {
   "display_name": "Python 3.9.6 ('experiment_env')",
   "language": "python",
   "name": "python3"
  },
  "language_info": {
   "codemirror_mode": {
    "name": "ipython",
    "version": 3
   },
   "file_extension": ".py",
   "mimetype": "text/x-python",
   "name": "python",
   "nbconvert_exporter": "python",
   "pygments_lexer": "ipython3",
   "version": "3.6.2"
  },
  "orig_nbformat": 4
 },
 "nbformat": 4,
 "nbformat_minor": 2
}
